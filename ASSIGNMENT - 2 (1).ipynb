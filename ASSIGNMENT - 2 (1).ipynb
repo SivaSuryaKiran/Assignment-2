{
 "cells": [
  {
   "cell_type": "markdown",
   "id": "1fd184d7",
   "metadata": {},
   "source": [
    "# ASSIGNMENT - 2"
   ]
  },
  {
   "cell_type": "code",
   "execution_count": 1,
   "id": "3225bbbe",
   "metadata": {},
   "outputs": [],
   "source": [
    "#       1.A) Two values of boolen are True and False.we can wirte them like \n",
    "#        == ,!="
   ]
  },
  {
   "cell_type": "code",
   "execution_count": 2,
   "id": "154782cf",
   "metadata": {},
   "outputs": [],
   "source": [
    "#       2.A) 3 types of booleaan operators are and , or , not"
   ]
  },
  {
   "cell_type": "code",
   "execution_count": 3,
   "id": "d111b4e9",
   "metadata": {},
   "outputs": [],
   "source": [
    "#  3.a)\n",
    "\n",
    " #             X         Y        X and Y     X or Y\n",
    " #             False    False     False        False\n",
    " #             False    True      False        True\n",
    " #            True     False     False        True \n",
    " #            True     True      True         True    "
   ]
  },
  {
   "cell_type": "code",
   "execution_count": 4,
   "id": "a2b95b8c",
   "metadata": {},
   "outputs": [],
   "source": [
    "#        4.A)\n",
    "\n",
    " # \n",
    " #         (5 > 4) and (3 == 5)   is False\n",
    " #         not (5 > 4)            is False\n",
    " #         (5 > 4) or (3 == 5)    is True\n",
    " #          not ((5 > 4) or (3 == 5)) is False\n",
    " #         (True and True) and (True == False) is False\n",
    " #          (not False) or (not True) is True"
   ]
  },
  {
   "cell_type": "code",
   "execution_count": 5,
   "id": "6c99eac3",
   "metadata": {},
   "outputs": [],
   "source": [
    "#        5.A)comparison operators\n",
    "\n",
    "#             ==\n",
    "#             !=\n",
    "#               >\n",
    "#              <\n",
    "#               >=\n",
    "#               <=\n",
    "\n"
   ]
  },
  {
   "cell_type": "code",
   "execution_count": 14,
   "id": "ee8677ba",
   "metadata": {},
   "outputs": [],
   "source": [
    "#  6.A)\n",
    "\n",
    "# equal to operator(==) is used to check the two values are equal or not.\n",
    "#  assigment operator(=) is used to assign a value to the variable.\n",
    "#   while checking wheather two values are eqaul or not we use equal to operator.\n",
    "#   And while we assigning value to a variable we use assignment operator."
   ]
  },
  {
   "cell_type": "code",
   "execution_count": null,
   "id": "6cb35243",
   "metadata": {},
   "outputs": [],
   "source": [
    "spam = 0  <-------  initialising block\n",
    "if spam == 10: <-------if block\n",
    "print('eggs')\n",
    "if spam > 5:\n",
    "print('bacon')\n",
    "else:  <-----------------else block\n",
    "print('ham')\n",
    "print('spam')\n",
    "print('spam')"
   ]
  },
  {
   "cell_type": "code",
   "execution_count": 50,
   "id": "6b0a39b6",
   "metadata": {},
   "outputs": [
    {
     "name": "stdout",
     "output_type": "stream",
     "text": [
      "enter a value:3\n",
      "Greeting\n"
     ]
    }
   ],
   "source": [
    "#8.A)\n",
    "\n",
    "\n",
    "val=int(input('enter a value:'))\n",
    "if val==1:\n",
    "    print(\"spam\")\n",
    "elif val==2:\n",
    "    print('Howdy')\n",
    "else:\n",
    "    print('Greeting')"
   ]
  },
  {
   "cell_type": "code",
   "execution_count": 8,
   "id": "970c1549",
   "metadata": {},
   "outputs": [],
   "source": [
    "#     9.A)  i'll press ctrl+c to stop the execution"
   ]
  },
  {
   "cell_type": "code",
   "execution_count": 9,
   "id": "12ab4878",
   "metadata": {},
   "outputs": [],
   "source": [
    "#   10.A)\n",
    "#    break statement stops the loop.And continue statement jumps one iteration in loop"
   ]
  },
  {
   "cell_type": "code",
   "execution_count": 10,
   "id": "b57b91e5",
   "metadata": {},
   "outputs": [],
   "source": [
    "#   11.A)\n",
    "\n",
    "\n",
    "#        range(10) in for loop generates 10 random numbers.\n",
    "#        range(0,10) in for loop generates 10 numbers starts with 0 .\n",
    "#        range(0,10,1) generates 10 numbers starting with 0 and jumps each step with 1.\n",
    "\n",
    "#        The output of above all functions is same.\n"
   ]
  },
  {
   "cell_type": "code",
   "execution_count": 11,
   "id": "2a18881c",
   "metadata": {},
   "outputs": [
    {
     "name": "stdout",
     "output_type": "stream",
     "text": [
      "1\n",
      "2\n",
      "3\n",
      "4\n",
      "5\n",
      "6\n",
      "7\n",
      "8\n",
      "9\n",
      "10\n"
     ]
    }
   ],
   "source": [
    "#12.A)\n",
    "\n",
    "for i in range(1,11):\n",
    "    print(i)\n"
   ]
  },
  {
   "cell_type": "code",
   "execution_count": 12,
   "id": "14b7ef84",
   "metadata": {},
   "outputs": [
    {
     "name": "stdout",
     "output_type": "stream",
     "text": [
      "1\n",
      "2\n",
      "3\n",
      "4\n",
      "5\n",
      "6\n",
      "7\n",
      "8\n",
      "9\n",
      "10\n"
     ]
    }
   ],
   "source": [
    "#12.A)\n",
    "\n",
    "i=0\n",
    "while i<10:\n",
    "    i=i+1\n",
    "    print(i)"
   ]
  },
  {
   "cell_type": "code",
   "execution_count": 13,
   "id": "e5c362cc",
   "metadata": {},
   "outputs": [],
   "source": [
    "#   13.A)\n",
    "\n",
    "#    spam.bacon()"
   ]
  }
 ],
 "metadata": {
  "kernelspec": {
   "display_name": "Python 3 (ipykernel)",
   "language": "python",
   "name": "python3"
  },
  "language_info": {
   "codemirror_mode": {
    "name": "ipython",
    "version": 3
   },
   "file_extension": ".py",
   "mimetype": "text/x-python",
   "name": "python",
   "nbconvert_exporter": "python",
   "pygments_lexer": "ipython3",
   "version": "3.9.7"
  }
 },
 "nbformat": 4,
 "nbformat_minor": 5
}
